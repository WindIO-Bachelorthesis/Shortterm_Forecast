{
 "cells": [
  {
   "cell_type": "markdown",
   "id": "948f3c3e-12ca-42d5-a1d1-4c63c5530944",
   "metadata": {},
   "source": [
    "![Header](../images/header.png)"
   ]
  },
  {
   "cell_type": "markdown",
   "id": "32b9acc9",
   "metadata": {},
   "source": [
    "<p align=\"center\"><img src=\"https://www.ge.com/renewableenergy/sites/default/files/2020-01/onshore-hero5.jpg\"/></p>"
   ]
  },
  {
   "cell_type": "markdown",
   "id": "f2faa28a",
   "metadata": {},
   "source": [
    "<h1 align=\"center\">ARIMA - Modell</h1>"
   ]
  },
  {
   "cell_type": "code",
   "execution_count": null,
   "id": "4b15d846-d993-4c16-a2f8-a3a0a0a41bf5",
   "metadata": {},
   "outputs": [],
   "source": [
    "import pandas as pd\n",
    "import numpy as np"
   ]
  },
  {
   "cell_type": "code",
   "execution_count": null,
   "id": "fd7482a2-878e-48a4-ac9f-6376addee5da",
   "metadata": {},
   "outputs": [],
   "source": []
  }
 ],
 "metadata": {
  "kernelspec": {
   "display_name": "Python 3",
   "language": "python",
   "name": "python3"
  },
  "language_info": {
   "codemirror_mode": {
    "name": "ipython",
    "version": 3
   },
   "file_extension": ".py",
   "mimetype": "text/x-python",
   "name": "python",
   "nbconvert_exporter": "python",
   "pygments_lexer": "ipython3",
   "version": "3.8.8"
  }
 },
 "nbformat": 4,
 "nbformat_minor": 5
}
