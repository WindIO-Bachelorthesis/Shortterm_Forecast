{
 "cells": [
  {
   "cell_type": "markdown",
   "id": "32b9acc9",
   "metadata": {},
   "source": [
    "<p align=\"center\"><img src=\"https://www.ge.com/renewableenergy/sites/default/files/2020-01/onshore-hero5.jpg\"/></p>"
   ]
  },
  {
   "cell_type": "markdown",
   "id": "f2faa28a",
   "metadata": {},
   "source": [
    "<h1 align=\"center\">Short-term forecast of onshore windturbines oscillation kinematics <br> ARIMA - Modell</h1>"
   ]
  }
 ],
 "metadata": {
  "kernelspec": {
   "display_name": "Python 3",
   "language": "python",
   "name": "python3"
  },
  "language_info": {
   "codemirror_mode": {
    "name": "ipython",
    "version": 3
   },
   "file_extension": ".py",
   "mimetype": "text/x-python",
   "name": "python",
   "nbconvert_exporter": "python",
   "pygments_lexer": "ipython3",
   "version": "3.8.8"
  }
 },
 "nbformat": 4,
 "nbformat_minor": 5
}
