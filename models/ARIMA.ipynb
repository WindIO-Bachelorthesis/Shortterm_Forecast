{
 "cells": [
  {
   "cell_type": "markdown",
   "id": "948f3c3e-12ca-42d5-a1d1-4c63c5530944",
   "metadata": {},
   "source": [
    "<p style=\"text-align:center\"><img src=../images/header.png/></p>"
   ]
  },
  {
   "cell_type": "markdown",
   "id": "32b9acc9",
   "metadata": {},
   "source": [
    "<p style=\"text-align:center\"><img src=\"https://camo.githubusercontent.com/4a300a0747dc7b5c69a83cc94ff2e2b5ad1f0f937ed3d142b171c0d4a6f8e164/68747470733a2f2f7777772e67652e636f6d2f72656e657761626c65656e657267792f73697465732f64656661756c742f66696c65732f323032302d30312f6f6e73686f72652d6865726f352e6a7067\"/></p>\n"
   ]
  },
  {
   "cell_type": "markdown",
   "id": "f2faa28a",
   "metadata": {},
   "source": [
    "<h1 align=\"center\">ARIMA - Modell</h1>"
   ]
  },
  {
   "cell_type": "code",
   "execution_count": 1,
   "id": "4b15d846-d993-4c16-a2f8-a3a0a0a41bf5",
   "metadata": {},
   "outputs": [],
   "source": [
    "import pandas as pd\n",
    "import numpy as np\n",
    "from statsmodels.tsa.arima_model import ARIMA\n",
    "import warnings\n",
    "from sklearn.metrics import mean_squared_error\n",
    "from math import sqrt\n",
    "import warnings\n",
    "warnings.filterwarnings(\"ignore\")"
   ]
  },
  {
   "cell_type": "markdown",
   "id": "c26971cb-f877-4272-b58c-55238aa10807",
   "metadata": {},
   "source": [
    "#### Please fill in the path to the preprocessed data."
   ]
  },
  {
   "cell_type": "code",
   "execution_count": 2,
   "id": "52faead4-ba00-40e8-b21a-6c43968285a7",
   "metadata": {},
   "outputs": [],
   "source": [
    "pre_path = \"../data/preprocessed/measurement_windio_msb-0002-a_2021-10-21.csv\""
   ]
  },
  {
   "cell_type": "markdown",
   "id": "32ea4b39-3006-4fff-8741-37f7a6ebf62d",
   "metadata": {},
   "source": [
    "#### Please fill in your desired resample frequency.\n",
    "Y <==> Year <br>\n",
    "Q <==> Quarter <br>\n",
    "M <==> Month <br>\n",
    "W <==> Week <br>\n",
    "D <==> Day <br>\n",
    "H <==> Hour <br>\n",
    "T <==> Minute <br>\n",
    "S <==> Second"
   ]
  },
  {
   "cell_type": "code",
   "execution_count": 3,
   "id": "e9f868c4-3f25-4e2a-bfaa-a5e83adcd7ac",
   "metadata": {},
   "outputs": [],
   "source": [
    "res_freq = \"S\""
   ]
  },
  {
   "cell_type": "markdown",
   "id": "11b43336-f40b-401d-9fbd-627695f8bcd4",
   "metadata": {},
   "source": [
    "#### The following cell shows your preprocessed input data."
   ]
  },
  {
   "cell_type": "code",
   "execution_count": 4,
   "id": "fd7482a2-878e-48a4-ac9f-6376addee5da",
   "metadata": {},
   "outputs": [
    {
     "data": {
      "text/html": [
       "<div>\n",
       "<style scoped>\n",
       "    .dataframe tbody tr th:only-of-type {\n",
       "        vertical-align: middle;\n",
       "    }\n",
       "\n",
       "    .dataframe tbody tr th {\n",
       "        vertical-align: top;\n",
       "    }\n",
       "\n",
       "    .dataframe thead th {\n",
       "        text-align: right;\n",
       "    }\n",
       "</style>\n",
       "<table border=\"1\" class=\"dataframe\">\n",
       "  <thead>\n",
       "    <tr style=\"text-align: right;\">\n",
       "      <th></th>\n",
       "      <th>uptime</th>\n",
       "      <th>acc_x</th>\n",
       "      <th>acc_y</th>\n",
       "      <th>acc_z</th>\n",
       "      <th>rot_x</th>\n",
       "      <th>rot_y</th>\n",
       "      <th>rot_z</th>\n",
       "      <th>mag_x</th>\n",
       "      <th>mag_y</th>\n",
       "      <th>mag_z</th>\n",
       "      <th>temp</th>\n",
       "    </tr>\n",
       "    <tr>\n",
       "      <th>date_time</th>\n",
       "      <th></th>\n",
       "      <th></th>\n",
       "      <th></th>\n",
       "      <th></th>\n",
       "      <th></th>\n",
       "      <th></th>\n",
       "      <th></th>\n",
       "      <th></th>\n",
       "      <th></th>\n",
       "      <th></th>\n",
       "      <th></th>\n",
       "    </tr>\n",
       "  </thead>\n",
       "  <tbody>\n",
       "    <tr>\n",
       "      <th>2021-10-21 09:42:23</th>\n",
       "      <td>54005.550714</td>\n",
       "      <td>-0.029480</td>\n",
       "      <td>-0.022701</td>\n",
       "      <td>0.978568</td>\n",
       "      <td>0.940022</td>\n",
       "      <td>0.692475</td>\n",
       "      <td>-0.811341</td>\n",
       "      <td>-295.214286</td>\n",
       "      <td>37.571429</td>\n",
       "      <td>-271.071429</td>\n",
       "      <td>2891.428571</td>\n",
       "    </tr>\n",
       "    <tr>\n",
       "      <th>2021-10-21 09:42:24</th>\n",
       "      <td>54006.192708</td>\n",
       "      <td>-0.033140</td>\n",
       "      <td>-0.020509</td>\n",
       "      <td>0.977184</td>\n",
       "      <td>0.929389</td>\n",
       "      <td>0.679071</td>\n",
       "      <td>-0.820929</td>\n",
       "      <td>-293.625000</td>\n",
       "      <td>40.270833</td>\n",
       "      <td>-267.333333</td>\n",
       "      <td>2884.333333</td>\n",
       "    </tr>\n",
       "    <tr>\n",
       "      <th>2021-10-21 09:42:25</th>\n",
       "      <td>54007.194167</td>\n",
       "      <td>-0.034906</td>\n",
       "      <td>-0.019583</td>\n",
       "      <td>0.976885</td>\n",
       "      <td>0.890585</td>\n",
       "      <td>0.663804</td>\n",
       "      <td>-0.771628</td>\n",
       "      <td>-294.020833</td>\n",
       "      <td>39.916667</td>\n",
       "      <td>-271.500000</td>\n",
       "      <td>2879.333333</td>\n",
       "    </tr>\n",
       "    <tr>\n",
       "      <th>2021-10-21 09:42:26</th>\n",
       "      <td>54008.193958</td>\n",
       "      <td>-0.035577</td>\n",
       "      <td>-0.023463</td>\n",
       "      <td>0.977151</td>\n",
       "      <td>0.908715</td>\n",
       "      <td>0.634224</td>\n",
       "      <td>-0.790712</td>\n",
       "      <td>-292.500000</td>\n",
       "      <td>40.854167</td>\n",
       "      <td>-265.729167</td>\n",
       "      <td>2887.666667</td>\n",
       "    </tr>\n",
       "    <tr>\n",
       "      <th>2021-10-21 09:42:27</th>\n",
       "      <td>54009.192292</td>\n",
       "      <td>-0.029603</td>\n",
       "      <td>-0.024028</td>\n",
       "      <td>0.977402</td>\n",
       "      <td>0.922074</td>\n",
       "      <td>0.691158</td>\n",
       "      <td>-0.796120</td>\n",
       "      <td>-292.416667</td>\n",
       "      <td>42.208333</td>\n",
       "      <td>-262.937500</td>\n",
       "      <td>2888.333333</td>\n",
       "    </tr>\n",
       "  </tbody>\n",
       "</table>\n",
       "</div>"
      ],
      "text/plain": [
       "                           uptime     acc_x     acc_y     acc_z     rot_x  \\\n",
       "date_time                                                                   \n",
       "2021-10-21 09:42:23  54005.550714 -0.029480 -0.022701  0.978568  0.940022   \n",
       "2021-10-21 09:42:24  54006.192708 -0.033140 -0.020509  0.977184  0.929389   \n",
       "2021-10-21 09:42:25  54007.194167 -0.034906 -0.019583  0.976885  0.890585   \n",
       "2021-10-21 09:42:26  54008.193958 -0.035577 -0.023463  0.977151  0.908715   \n",
       "2021-10-21 09:42:27  54009.192292 -0.029603 -0.024028  0.977402  0.922074   \n",
       "\n",
       "                        rot_y     rot_z       mag_x      mag_y       mag_z  \\\n",
       "date_time                                                                    \n",
       "2021-10-21 09:42:23  0.692475 -0.811341 -295.214286  37.571429 -271.071429   \n",
       "2021-10-21 09:42:24  0.679071 -0.820929 -293.625000  40.270833 -267.333333   \n",
       "2021-10-21 09:42:25  0.663804 -0.771628 -294.020833  39.916667 -271.500000   \n",
       "2021-10-21 09:42:26  0.634224 -0.790712 -292.500000  40.854167 -265.729167   \n",
       "2021-10-21 09:42:27  0.691158 -0.796120 -292.416667  42.208333 -262.937500   \n",
       "\n",
       "                            temp  \n",
       "date_time                         \n",
       "2021-10-21 09:42:23  2891.428571  \n",
       "2021-10-21 09:42:24  2884.333333  \n",
       "2021-10-21 09:42:25  2879.333333  \n",
       "2021-10-21 09:42:26  2887.666667  \n",
       "2021-10-21 09:42:27  2888.333333  "
      ]
     },
     "execution_count": 4,
     "metadata": {},
     "output_type": "execute_result"
    }
   ],
   "source": [
    "df = pd.read_csv(pre_path, parse_dates=[\"date_time\"], index_col=\"date_time\")\n",
    "df = df.resample(res_freq).mean()\n",
    "df.head()"
   ]
  },
  {
   "cell_type": "markdown",
   "id": "6dbc2a1d-dbf0-40dd-ae7f-a72fe8131672",
   "metadata": {},
   "source": [
    "#### Removes the columns that are not needed and all empty values."
   ]
  },
  {
   "cell_type": "code",
   "execution_count": 5,
   "id": "dd20eb3a-9213-4beb-bd8f-5dc6d004e3aa",
   "metadata": {},
   "outputs": [
    {
     "data": {
      "text/html": [
       "<div>\n",
       "<style scoped>\n",
       "    .dataframe tbody tr th:only-of-type {\n",
       "        vertical-align: middle;\n",
       "    }\n",
       "\n",
       "    .dataframe tbody tr th {\n",
       "        vertical-align: top;\n",
       "    }\n",
       "\n",
       "    .dataframe thead th {\n",
       "        text-align: right;\n",
       "    }\n",
       "</style>\n",
       "<table border=\"1\" class=\"dataframe\">\n",
       "  <thead>\n",
       "    <tr style=\"text-align: right;\">\n",
       "      <th></th>\n",
       "      <th>acc_x</th>\n",
       "      <th>acc_y</th>\n",
       "      <th>acc_z</th>\n",
       "      <th>rot_x</th>\n",
       "      <th>rot_y</th>\n",
       "      <th>rot_z</th>\n",
       "    </tr>\n",
       "    <tr>\n",
       "      <th>date_time</th>\n",
       "      <th></th>\n",
       "      <th></th>\n",
       "      <th></th>\n",
       "      <th></th>\n",
       "      <th></th>\n",
       "      <th></th>\n",
       "    </tr>\n",
       "  </thead>\n",
       "  <tbody>\n",
       "    <tr>\n",
       "      <th>2021-10-21 09:42:23</th>\n",
       "      <td>-0.029480</td>\n",
       "      <td>-0.022701</td>\n",
       "      <td>0.978568</td>\n",
       "      <td>0.940022</td>\n",
       "      <td>0.692475</td>\n",
       "      <td>-0.811341</td>\n",
       "    </tr>\n",
       "    <tr>\n",
       "      <th>2021-10-21 09:42:24</th>\n",
       "      <td>-0.033140</td>\n",
       "      <td>-0.020509</td>\n",
       "      <td>0.977184</td>\n",
       "      <td>0.929389</td>\n",
       "      <td>0.679071</td>\n",
       "      <td>-0.820929</td>\n",
       "    </tr>\n",
       "    <tr>\n",
       "      <th>2021-10-21 09:42:25</th>\n",
       "      <td>-0.034906</td>\n",
       "      <td>-0.019583</td>\n",
       "      <td>0.976885</td>\n",
       "      <td>0.890585</td>\n",
       "      <td>0.663804</td>\n",
       "      <td>-0.771628</td>\n",
       "    </tr>\n",
       "    <tr>\n",
       "      <th>2021-10-21 09:42:26</th>\n",
       "      <td>-0.035577</td>\n",
       "      <td>-0.023463</td>\n",
       "      <td>0.977151</td>\n",
       "      <td>0.908715</td>\n",
       "      <td>0.634224</td>\n",
       "      <td>-0.790712</td>\n",
       "    </tr>\n",
       "    <tr>\n",
       "      <th>2021-10-21 09:42:27</th>\n",
       "      <td>-0.029603</td>\n",
       "      <td>-0.024028</td>\n",
       "      <td>0.977402</td>\n",
       "      <td>0.922074</td>\n",
       "      <td>0.691158</td>\n",
       "      <td>-0.796120</td>\n",
       "    </tr>\n",
       "  </tbody>\n",
       "</table>\n",
       "</div>"
      ],
      "text/plain": [
       "                        acc_x     acc_y     acc_z     rot_x     rot_y  \\\n",
       "date_time                                                               \n",
       "2021-10-21 09:42:23 -0.029480 -0.022701  0.978568  0.940022  0.692475   \n",
       "2021-10-21 09:42:24 -0.033140 -0.020509  0.977184  0.929389  0.679071   \n",
       "2021-10-21 09:42:25 -0.034906 -0.019583  0.976885  0.890585  0.663804   \n",
       "2021-10-21 09:42:26 -0.035577 -0.023463  0.977151  0.908715  0.634224   \n",
       "2021-10-21 09:42:27 -0.029603 -0.024028  0.977402  0.922074  0.691158   \n",
       "\n",
       "                        rot_z  \n",
       "date_time                      \n",
       "2021-10-21 09:42:23 -0.811341  \n",
       "2021-10-21 09:42:24 -0.820929  \n",
       "2021-10-21 09:42:25 -0.771628  \n",
       "2021-10-21 09:42:26 -0.790712  \n",
       "2021-10-21 09:42:27 -0.796120  "
      ]
     },
     "execution_count": 5,
     "metadata": {},
     "output_type": "execute_result"
    }
   ],
   "source": [
    "df.drop(['uptime', 'mag_x', 'mag_y', 'mag_z', 'temp'], axis=1, inplace=True)\n",
    "df.dropna(inplace = True)\n",
    "df.head()"
   ]
  },
  {
   "cell_type": "markdown",
   "id": "96d18e8d-c849-42ae-9d12-57f3e91a94d6",
   "metadata": {},
   "source": [
    "#### Please fill in the column which should be forecasted."
   ]
  },
  {
   "cell_type": "code",
   "execution_count": 6,
   "id": "d8c8fc1b-a3a4-484a-8c95-41e094888234",
   "metadata": {},
   "outputs": [],
   "source": [
    "col_forecast = \"acc_x\""
   ]
  },
  {
   "cell_type": "markdown",
   "id": "f863f859-b65d-4cfd-9fe4-1796f50f14fc",
   "metadata": {},
   "source": [
    "#### Plots the column which should be forecasted."
   ]
  },
  {
   "cell_type": "code",
   "execution_count": 7,
   "id": "253dc18f-e0c7-4ecf-a229-3b58ea00f371",
   "metadata": {},
   "outputs": [
    {
     "data": {
      "text/plain": [
       "<AxesSubplot:xlabel='date_time', ylabel='acc_x'>"
      ]
     },
     "execution_count": 7,
     "metadata": {},
     "output_type": "execute_result"
    },
    {
     "data": {
      "image/png": "[encoded data removed]",
      "text/plain": [
       "<Figure size 1440x360 with 1 Axes>"
      ]
     },
     "metadata": {
      "needs_background": "light"
     },
     "output_type": "display_data"
    }
   ],
   "source": [
    "df[col_forecast].plot(figsize=(20,5), ylabel=col_forecast)"
   ]
  },
  {
   "cell_type": "markdown",
   "id": "142aad69-a5b7-4906-9a10-41e295a4e9c4",
   "metadata": {},
   "source": [
    "#### Devides the dataset into train and test data"
   ]
  },
  {
   "cell_type": "code",
   "execution_count": 8,
   "id": "2ca7f213",
   "metadata": {},
   "outputs": [],
   "source": [
    "train = df.iloc[:-(round(0.02*len(df)))]\n",
    "test=df.iloc[-(round(0.02*len(df))):]"
   ]
  },
  {
   "cell_type": "markdown",
   "id": "1668e83b-2644-4332-9ca9-89df3dfd41ae",
   "metadata": {},
   "source": [
    "#### Trains the ARIMA Modell and calculates the preiction"
   ]
  },
  {
   "cell_type": "code",
   "execution_count": 9,
   "id": "c51180ca-8919-4328-bdc7-da13826eb694",
   "metadata": {},
   "outputs": [],
   "source": [
    "model = ARIMA(train[col_forecast], order=(5,1,5))\n",
    "model = model.fit()\n",
    "pred=model.predict(start=len(train), end=len(train)+len(test)-1, typ=\"levels\")\n",
    "pred.index=df.index[len(train):len(train)+len(test)]"
   ]
  },
  {
   "cell_type": "markdown",
   "id": "6e68aeb6-9dff-4702-ba25-40bfc3ac35e2",
   "metadata": {},
   "source": [
    "#### Plots the testdata and ARIMA prediction"
   ]
  },
  {
   "cell_type": "code",
   "execution_count": 10,
   "id": "fe12f0af-1264-4292-97bc-9e4cbad6fc59",
   "metadata": {},
   "outputs": [
    {
     "data": {
      "text/plain": [
       "<AxesSubplot:title={'center':'Testdata and ARIMA prediction'}, xlabel='date_time', ylabel='acc_x'>"
      ]
     },
     "execution_count": 10,
     "metadata": {},
     "output_type": "execute_result"
    },
    {
     "data": {
      "image/png": "[encoded data removed]",
      "text/plain": [
       "<Figure size 432x288 with 1 Axes>"
      ]
     },
     "metadata": {
      "needs_background": "light"
     },
     "output_type": "display_data"
    }
   ],
   "source": [
    "pred.plot(title = \"Testdata and ARIMA prediction\", ylabel=col_forecast)\n",
    "test[col_forecast].plot()"
   ]
  },
  {
   "cell_type": "markdown",
   "id": "5f962d06-710e-4ec5-9f4e-900d814f1e58",
   "metadata": {},
   "source": [
    "#### Calculates the RMSE value between testdata and prediction"
   ]
  },
  {
   "cell_type": "code",
   "execution_count": 11,
   "id": "090f86bb-5e4c-4135-8898-e2cffbeae664",
   "metadata": {},
   "outputs": [
    {
     "name": "stdout",
     "output_type": "stream",
     "text": [
      "0.001039944635409317\n"
     ]
    }
   ],
   "source": [
    "rmse = sqrt(mean_squared_error(pred, test[col_forecast]))\n",
    "print(rmse)"
   ]
  },
  {
   "cell_type": "markdown",
   "id": "53a145d0-23ee-434d-a2d9-31832587253d",
   "metadata": {},
   "source": [
    "#### Calculates the mean value of the testdata"
   ]
  },
  {
   "cell_type": "code",
   "execution_count": 12,
   "id": "ad60f282-d362-4663-934b-03d9c52855f2",
   "metadata": {},
   "outputs": [
    {
     "data": {
      "text/plain": [
       "-0.03345148314915158"
      ]
     },
     "execution_count": 12,
     "metadata": {},
     "output_type": "execute_result"
    }
   ],
   "source": [
    "test[col_forecast].mean()"
   ]
  },
  {
   "cell_type": "markdown",
   "id": "0171e570-d089-445f-bcbe-6c1078a18585",
   "metadata": {},
   "source": [
    "#### Plots the RMSE value between testdata and prediction for different time_intervals"
   ]
  },
  {
   "cell_type": "code",
   "execution_count": null,
   "id": "297140e6-8536-493d-8d84-3f2e4f668e39",
   "metadata": {},
   "outputs": [],
   "source": [
    "df2 = pd.DataFrame(data={'date_time': [0], 'rmse': [0]})\n",
    "for i in range(1,10,1):    \n",
    "    train = df.iloc[:-(round(0.01*i*len(df)))]\n",
    "    test=df.iloc[-(round(0.01*i*len(df))):]\n",
    "    model = ARIMA(train[col_forecast], order=(5,1,5))\n",
    "    model = model.fit()\n",
    "    pred=model.predict(start=len(train), end=len(train)+len(test)-1, typ=\"levels\")\n",
    "    pred.index=df.index[len(train):len(train)+len(test)]\n",
    "    rmse = sqrt(mean_squared_error(pred, test[col_forecast]))\n",
    "    df2 = df2.append({'date_time': len(test), 'rmse': rmse}, ignore_index=True)\n",
    "df2[\"std\"] = test[col_forecast].std()\n",
    "df2.plot(legend=True, x=\"date_time\", y=[\"rmse\", \"std\"], title=\"RMSE over time\")"
   ]
  }
 ],
 "metadata": {
  "kernelspec": {
   "display_name": "Python 3",
   "language": "python",
   "name": "python3"
  },
  "language_info": {
   "codemirror_mode": {
    "name": "ipython",
    "version": 3
   },
   "file_extension": ".py",
   "mimetype": "text/x-python",
   "name": "python",
   "nbconvert_exporter": "python",
   "pygments_lexer": "ipython3",
   "version": "3.8.8"
  }
 },
 "nbformat": 4,
 "nbformat_minor": 5
}
