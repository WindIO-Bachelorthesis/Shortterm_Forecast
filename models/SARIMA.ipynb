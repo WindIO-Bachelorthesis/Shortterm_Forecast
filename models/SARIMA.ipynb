{
 "cells": [
  {
   "cell_type": "markdown",
   "id": "60024b76-a9ad-409f-905c-169b70a982ae",
   "metadata": {},
   "source": [
    "![Header](../images/header.png)"
   ]
  },
  {
   "cell_type": "markdown",
   "id": "a9326b9f",
   "metadata": {},
   "source": [
    "<p align=\"center\"><img src=\"https://www.ge.com/renewableenergy/sites/default/files/2020-01/onshore-hero5.jpg\"/></p>"
   ]
  },
  {
   "cell_type": "markdown",
   "id": "acdb284f",
   "metadata": {},
   "source": [
    "<h1 align=\"center\">SARIMA - Modell</h1>"
   ]
  },
  {
   "cell_type": "code",
   "execution_count": null,
   "id": "477d159a-ac8d-4260-b18a-ccc337eb3fc0",
   "metadata": {},
   "outputs": [],
   "source": [
    "import pandas as pd\n",
    "import numpy as np"
   ]
  },
  {
   "cell_type": "code",
   "execution_count": null,
   "id": "c210e2f1-992b-4338-b82b-1da9edd0c462",
   "metadata": {},
   "outputs": [],
   "source": []
  }
 ],
 "metadata": {
  "kernelspec": {
   "display_name": "Python 3",
   "language": "python",
   "name": "python3"
  },
  "language_info": {
   "codemirror_mode": {
    "name": "ipython",
    "version": 3
   },
   "file_extension": ".py",
   "mimetype": "text/x-python",
   "name": "python",
   "nbconvert_exporter": "python",
   "pygments_lexer": "ipython3",
   "version": "3.8.8"
  }
 },
 "nbformat": 4,
 "nbformat_minor": 5
}
