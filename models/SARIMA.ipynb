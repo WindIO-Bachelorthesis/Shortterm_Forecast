{
 "cells": [
  {
   "cell_type": "markdown",
   "id": "a9326b9f",
   "metadata": {},
   "source": [
    "<p align=\"center\"><img src=\"https://www.ge.com/renewableenergy/sites/default/files/2020-01/onshore-hero5.jpg\"/></p>"
   ]
  },
  {
   "cell_type": "markdown",
   "id": "acdb284f",
   "metadata": {},
   "source": [
    "<h1 align=\"center\">Short-term forecast of onshore windturbines oscillation kinematics <br> SARIMA - Modell</h1>"
   ]
  }
 ],
 "metadata": {
  "language_info": {
   "name": "python"
  }
 },
 "nbformat": 4,
 "nbformat_minor": 5
}
