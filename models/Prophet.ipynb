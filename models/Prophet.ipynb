{
 "cells": [
  {
   "cell_type": "markdown",
   "id": "6e0ac707-d40e-4e95-a9bb-187a691d1b02",
   "metadata": {},
   "source": [
    "![Header](../images/header.png)"
   ]
  },
  {
   "cell_type": "markdown",
   "id": "b361c920",
   "metadata": {},
   "source": [
    "<p align=\"center\"><img src=\"https://www.ge.com/renewableenergy/sites/default/files/2020-01/onshore-hero5.jpg\"/></p>"
   ]
  },
  {
   "cell_type": "markdown",
   "id": "bb1b446a",
   "metadata": {},
   "source": [
    "<h1 align=\"center\">Prophet - Neuronal Network</h1>"
   ]
  },
  {
   "cell_type": "code",
   "execution_count": null,
   "id": "12772dd2-8c33-4fb8-abb3-0f0b700f1fd5",
   "metadata": {},
   "outputs": [],
   "source": [
    "import pandas as pd\n",
    "import numpy as np"
   ]
  },
  {
   "cell_type": "code",
   "execution_count": null,
   "id": "ed8519cb-20ed-494f-8a82-9077c52d9636",
   "metadata": {},
   "outputs": [],
   "source": []
  }
 ],
 "metadata": {
  "kernelspec": {
   "display_name": "Python 3",
   "language": "python",
   "name": "python3"
  },
  "language_info": {
   "codemirror_mode": {
    "name": "ipython",
    "version": 3
   },
   "file_extension": ".py",
   "mimetype": "text/x-python",
   "name": "python",
   "nbconvert_exporter": "python",
   "pygments_lexer": "ipython3",
   "version": "3.8.8"
  }
 },
 "nbformat": 4,
 "nbformat_minor": 5
}
