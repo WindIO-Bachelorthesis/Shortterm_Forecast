{
 "cells": [
  {
   "cell_type": "markdown",
   "id": "fc3a326d-d64e-463b-b17b-33a7d0abf4c0",
   "metadata": {},
   "source": [
    "<p style=\"text-align:center\"><img src=../images/header.png/></p>"
   ]
  },
  {
   "cell_type": "markdown",
   "id": "345bd790-4360-4010-9ec6-7f8ddce637c8",
   "metadata": {},
   "source": [
    "<p style=\"text-align:center\"><img src=\"https://camo.githubusercontent.com/4a300a0747dc7b5c69a83cc94ff2e2b5ad1f0f937ed3d142b171c0d4a6f8e164/68747470733a2f2f7777772e67652e636f6d2f72656e657761626c65656e657267792f73697465732f64656661756c742f66696c65732f323032302d30312f6f6e73686f72652d6865726f352e6a7067\"/></p>\n"
   ]
  },
  {
   "cell_type": "markdown",
   "id": "8a1f2d5a-4563-46f9-9806-9983e89a9294",
   "metadata": {},
   "source": [
    "<h1 align=\"center\">This script processes the available sensor data, which is recorded by the Flucto measurement box on the Senvion wind turbine.</h1>"
   ]
  },
  {
   "cell_type": "code",
   "execution_count": 1,
   "id": "7e411c8d-3f47-4a70-b7a1-5e604816868b",
   "metadata": {},
   "outputs": [],
   "source": [
    "import ast\n",
    "import pandas as pd"
   ]
  },
  {
   "cell_type": "markdown",
   "id": "190465d3-d38a-4047-9a33-f57417738ece",
   "metadata": {},
   "source": [
    "#### Please fill in the path to the raw data and the desired filepath of the preprocessed data."
   ]
  },
  {
   "cell_type": "code",
   "execution_count": 2,
   "id": "b3fbcd37-7d52-4519-b2f2-cee45c91ae7d",
   "metadata": {},
   "outputs": [],
   "source": [
    "raw_path = \"./raw/measurement_windio_msb-0004-a_2021-10-21.log\"\n",
    "pre_path = \"./measurement_windio_msb-0004-a_2021-10-21.csv\""
   ]
  },
  {
   "cell_type": "markdown",
   "id": "506acf6b-23e4-45de-973a-c97729004ebe",
   "metadata": {},
   "source": [
    "#### Execute this cell to preprocess your data."
   ]
  },
  {
   "cell_type": "code",
   "execution_count": 3,
   "id": "23893888-5f26-470f-bdc4-27f78cec8c93",
   "metadata": {},
   "outputs": [],
   "source": [
    "df = pd.DataFrame()\n",
    "raw_file = open(raw_path,'r')\n",
    "for line in raw_file:\n",
    "    data = ast.literal_eval(line)\n",
    "    if \"imu\" in data:\n",
    "        ser = pd.Series(data[\"imu\"])\n",
    "        df = df.append(ser, ignore_index=True)\n",
    "df.set_axis(['date_time', 'uptime', 'acc_x', 'acc_y', 'acc_z', 'rot_x', 'rot_y', 'rot_z', 'mag_x', 'mag_y', 'mag_z', 'temp'], axis=1, inplace=True)\n",
    "df[\"date_time\"] = pd.to_datetime(df[\"date_time\"], unit='s')\n",
    "df.to_csv(pre_path, encoding='utf-8', index=False)"
   ]
  },
  {
   "cell_type": "markdown",
   "id": "588f2a4f-90ad-4648-b4da-2b11089cc4fd",
   "metadata": {},
   "source": [
    "#### The following cell shows your preprocessed data. It gets resampled secundary."
   ]
  },
  {
   "cell_type": "code",
   "execution_count": 1,
   "id": "7dba36a4-a7b0-4b9d-b369-b8821ef0371e",
   "metadata": {},
   "outputs": [],
   "source": [
    "df = pd.read_csv(pre_path, parse_dates=[\"date_time\"], index_col=\"date_time\")\n",
    "df.resample(\"s\").mean().head()"
   ]
  }
 ],
 "metadata": {
  "kernelspec": {
   "display_name": "Python 3",
   "language": "python",
   "name": "python3"
  },
  "language_info": {
   "codemirror_mode": {
    "name": "ipython",
    "version": 3
   },
   "file_extension": ".py",
   "mimetype": "text/x-python",
   "name": "python",
   "nbconvert_exporter": "python",
   "pygments_lexer": "ipython3",
   "version": "3.8.8"
  }
 },
 "nbformat": 4,
 "nbformat_minor": 5
}
