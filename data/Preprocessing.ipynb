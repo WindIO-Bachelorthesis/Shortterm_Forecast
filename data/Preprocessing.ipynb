{
 "cells": [
  {
   "cell_type": "markdown",
   "id": "fc3a326d-d64e-463b-b17b-33a7d0abf4c0",
   "metadata": {},
   "source": [
    "<p style=\"text-align:center\"><img src=\"https://github.com/WindIO-Bachelorthesis/Shortterm_Forecast/blob/main/images/header.PNG?raw=true\"></p>"
   ]
  },
  {
   "cell_type": "markdown",
   "id": "345bd790-4360-4010-9ec6-7f8ddce637c8",
   "metadata": {},
   "source": [
    "<p style=\"text-align:center\"><img src=\"https://camo.githubusercontent.com/4a300a0747dc7b5c69a83cc94ff2e2b5ad1f0f937ed3d142b171c0d4a6f8e164/68747470733a2f2f7777772e67652e636f6d2f72656e657761626c65656e657267792f73697465732f64656661756c742f66696c65732f323032302d30312f6f6e73686f72652d6865726f352e6a7067\"/></p>\n"
   ]
  },
  {
   "cell_type": "markdown",
   "id": "8a1f2d5a-4563-46f9-9806-9983e89a9294",
   "metadata": {},
   "source": [
    "<h1 align=\"center\">This script processes the available sensor data, which is recorded by the Flucto measurement box on the Senvion wind turbine.</h1>"
   ]
  },
  {
   "cell_type": "code",
   "execution_count": 1,
   "id": "7e411c8d-3f47-4a70-b7a1-5e604816868b",
   "metadata": {},
   "outputs": [],
   "source": [
    "import ast\n",
    "import pandas as pd"
   ]
  },
  {
   "cell_type": "markdown",
   "id": "190465d3-d38a-4047-9a33-f57417738ece",
   "metadata": {},
   "source": [
    "#### Please fill in the path to the raw data and the desired filepath of the preprocessed data."
   ]
  },
  {
   "cell_type": "code",
   "execution_count": 2,
   "id": "b3fbcd37-7d52-4519-b2f2-cee45c91ae7d",
   "metadata": {},
   "outputs": [],
   "source": [
    "raw_path = \"./raw/measurement_windio_msb-0002-a_2021-10-21.log\"\n",
    "pre_path = \"./measurement_windio_msb-0002-a_2021-10-21.csv\""
   ]
  },
  {
   "cell_type": "markdown",
   "id": "506acf6b-23e4-45de-973a-c97729004ebe",
   "metadata": {},
   "source": [
    "#### Execute this cell to preprocess your data."
   ]
  },
  {
   "cell_type": "code",
   "execution_count": 3,
   "id": "23893888-5f26-470f-bdc4-27f78cec8c93",
   "metadata": {},
   "outputs": [],
   "source": [
    "df = pd.DataFrame()\n",
    "raw_file = open(raw_path,'r')\n",
    "for line in raw_file:\n",
    "    data = ast.literal_eval(line)\n",
    "    if \"imu\" in data:\n",
    "        ser = pd.Series(data[\"imu\"])\n",
    "        df = df.append(ser, ignore_index=True)\n",
    "df.set_axis(['date_time', 'uptime', 'acc_x', 'acc_y', 'acc_z', 'rot_x', 'rot_y', 'rot_z', 'mag_x', 'mag_y', 'mag_z', 'temp'], axis=1, inplace=True)\n",
    "df[\"date_time\"] = pd.to_datetime(df[\"date_time\"], unit='s')\n",
    "df.to_csv(pre_path, encoding='utf-8', index=False)"
   ]
  },
  {
   "cell_type": "markdown",
   "id": "588f2a4f-90ad-4648-b4da-2b11089cc4fd",
   "metadata": {},
   "source": [
    "#### The following cell shows your preprocessed data. It gets resampled secundary."
   ]
  },
  {
   "cell_type": "code",
   "execution_count": 4,
   "id": "7dba36a4-a7b0-4b9d-b369-b8821ef0371e",
   "metadata": {},
   "outputs": [
    {
     "data": {
      "text/html": [
       "<div>\n",
       "<style scoped>\n",
       "    .dataframe tbody tr th:only-of-type {\n",
       "        vertical-align: middle;\n",
       "    }\n",
       "\n",
       "    .dataframe tbody tr th {\n",
       "        vertical-align: top;\n",
       "    }\n",
       "\n",
       "    .dataframe thead th {\n",
       "        text-align: right;\n",
       "    }\n",
       "</style>\n",
       "<table border=\"1\" class=\"dataframe\">\n",
       "  <thead>\n",
       "    <tr style=\"text-align: right;\">\n",
       "      <th></th>\n",
       "      <th>uptime</th>\n",
       "      <th>acc_x</th>\n",
       "      <th>acc_y</th>\n",
       "      <th>acc_z</th>\n",
       "      <th>rot_x</th>\n",
       "      <th>rot_y</th>\n",
       "      <th>rot_z</th>\n",
       "      <th>mag_x</th>\n",
       "      <th>mag_y</th>\n",
       "      <th>mag_z</th>\n",
       "      <th>temp</th>\n",
       "    </tr>\n",
       "    <tr>\n",
       "      <th>date_time</th>\n",
       "      <th></th>\n",
       "      <th></th>\n",
       "      <th></th>\n",
       "      <th></th>\n",
       "      <th></th>\n",
       "      <th></th>\n",
       "      <th></th>\n",
       "      <th></th>\n",
       "      <th></th>\n",
       "      <th></th>\n",
       "      <th></th>\n",
       "    </tr>\n",
       "  </thead>\n",
       "  <tbody>\n",
       "    <tr>\n",
       "      <th>2021-10-21 09:42:23</th>\n",
       "      <td>54005.550714</td>\n",
       "      <td>-0.029480</td>\n",
       "      <td>-0.022701</td>\n",
       "      <td>0.978568</td>\n",
       "      <td>0.940022</td>\n",
       "      <td>0.692475</td>\n",
       "      <td>-0.811341</td>\n",
       "      <td>-295.214286</td>\n",
       "      <td>37.571429</td>\n",
       "      <td>-271.071429</td>\n",
       "      <td>2891.428571</td>\n",
       "    </tr>\n",
       "    <tr>\n",
       "      <th>2021-10-21 09:42:24</th>\n",
       "      <td>54006.192708</td>\n",
       "      <td>-0.033140</td>\n",
       "      <td>-0.020509</td>\n",
       "      <td>0.977184</td>\n",
       "      <td>0.929389</td>\n",
       "      <td>0.679071</td>\n",
       "      <td>-0.820929</td>\n",
       "      <td>-293.625000</td>\n",
       "      <td>40.270833</td>\n",
       "      <td>-267.333333</td>\n",
       "      <td>2884.333333</td>\n",
       "    </tr>\n",
       "    <tr>\n",
       "      <th>2021-10-21 09:42:25</th>\n",
       "      <td>54007.194167</td>\n",
       "      <td>-0.034906</td>\n",
       "      <td>-0.019583</td>\n",
       "      <td>0.976885</td>\n",
       "      <td>0.890585</td>\n",
       "      <td>0.663804</td>\n",
       "      <td>-0.771628</td>\n",
       "      <td>-294.020833</td>\n",
       "      <td>39.916667</td>\n",
       "      <td>-271.500000</td>\n",
       "      <td>2879.333333</td>\n",
       "    </tr>\n",
       "    <tr>\n",
       "      <th>2021-10-21 09:42:26</th>\n",
       "      <td>54008.193958</td>\n",
       "      <td>-0.035577</td>\n",
       "      <td>-0.023463</td>\n",
       "      <td>0.977151</td>\n",
       "      <td>0.908715</td>\n",
       "      <td>0.634224</td>\n",
       "      <td>-0.790712</td>\n",
       "      <td>-292.500000</td>\n",
       "      <td>40.854167</td>\n",
       "      <td>-265.729167</td>\n",
       "      <td>2887.666667</td>\n",
       "    </tr>\n",
       "    <tr>\n",
       "      <th>2021-10-21 09:42:27</th>\n",
       "      <td>54009.192292</td>\n",
       "      <td>-0.029603</td>\n",
       "      <td>-0.024028</td>\n",
       "      <td>0.977402</td>\n",
       "      <td>0.922074</td>\n",
       "      <td>0.691158</td>\n",
       "      <td>-0.796120</td>\n",
       "      <td>-292.416667</td>\n",
       "      <td>42.208333</td>\n",
       "      <td>-262.937500</td>\n",
       "      <td>2888.333333</td>\n",
       "    </tr>\n",
       "  </tbody>\n",
       "</table>\n",
       "</div>"
      ],
      "text/plain": [
       "                           uptime     acc_x     acc_y     acc_z     rot_x  \\\n",
       "date_time                                                                   \n",
       "2021-10-21 09:42:23  54005.550714 -0.029480 -0.022701  0.978568  0.940022   \n",
       "2021-10-21 09:42:24  54006.192708 -0.033140 -0.020509  0.977184  0.929389   \n",
       "2021-10-21 09:42:25  54007.194167 -0.034906 -0.019583  0.976885  0.890585   \n",
       "2021-10-21 09:42:26  54008.193958 -0.035577 -0.023463  0.977151  0.908715   \n",
       "2021-10-21 09:42:27  54009.192292 -0.029603 -0.024028  0.977402  0.922074   \n",
       "\n",
       "                        rot_y     rot_z       mag_x      mag_y       mag_z  \\\n",
       "date_time                                                                    \n",
       "2021-10-21 09:42:23  0.692475 -0.811341 -295.214286  37.571429 -271.071429   \n",
       "2021-10-21 09:42:24  0.679071 -0.820929 -293.625000  40.270833 -267.333333   \n",
       "2021-10-21 09:42:25  0.663804 -0.771628 -294.020833  39.916667 -271.500000   \n",
       "2021-10-21 09:42:26  0.634224 -0.790712 -292.500000  40.854167 -265.729167   \n",
       "2021-10-21 09:42:27  0.691158 -0.796120 -292.416667  42.208333 -262.937500   \n",
       "\n",
       "                            temp  \n",
       "date_time                         \n",
       "2021-10-21 09:42:23  2891.428571  \n",
       "2021-10-21 09:42:24  2884.333333  \n",
       "2021-10-21 09:42:25  2879.333333  \n",
       "2021-10-21 09:42:26  2887.666667  \n",
       "2021-10-21 09:42:27  2888.333333  "
      ]
     },
     "execution_count": 4,
     "metadata": {},
     "output_type": "execute_result"
    }
   ],
   "source": [
    "df = pd.read_csv(pre_path, parse_dates=[\"date_time\"], index_col=\"date_time\")\n",
    "df.resample(\"s\").mean().head()"
   ]
  }
 ],
 "metadata": {
  "kernelspec": {
   "display_name": "Python 3",
   "language": "python",
   "name": "python3"
  },
  "language_info": {
   "codemirror_mode": {
    "name": "ipython",
    "version": 3
   },
   "file_extension": ".py",
   "mimetype": "text/x-python",
   "name": "python",
   "nbconvert_exporter": "python",
   "pygments_lexer": "ipython3",
   "version": "3.8.8"
  }
 },
 "nbformat": 4,
 "nbformat_minor": 5
}
