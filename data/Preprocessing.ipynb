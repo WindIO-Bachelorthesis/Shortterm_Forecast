{
 "cells": [
  {
   "cell_type": "code",
   "execution_count": null,
   "id": "7e411c8d-3f47-4a70-b7a1-5e604816868b",
   "metadata": {},
   "outputs": [],
   "source": [
    "# Python program to demonstrate\n",
    "# Conversion of JSON data to\n",
    "# dictionary\n",
    " \n",
    " \n",
    "# importing the module\n",
    "import ast\n",
    "import pandas as pd\n",
    "import numpy\n",
    "\n",
    "time_series = pd.DataFrame()\n",
    "datei = open('./raw/measurement_windio_msb-0002-a_2021-10-21.log','r')\n",
    "for zeile in datei:\n",
    "    data = ast.literal_eval(zeile)\n",
    "    if \"imu\" in data:\n",
    "        ser = pd.Series(data[\"imu\"])\n",
    "        time_series = time_series.append(ser, ignore_index=True)\n",
    "time_series.head(5)\n",
    "df.to_csv(\"dataset_1\", encoding='utf-8', index=False)"
   ]
  },
  {
   "cell_type": "code",
   "execution_count": null,
   "id": "b3fbcd37-7d52-4519-b2f2-cee45c91ae7d",
   "metadata": {},
   "outputs": [],
   "source": []
  },
  {
   "cell_type": "code",
   "execution_count": null,
   "id": "23893888-5f26-470f-bdc4-27f78cec8c93",
   "metadata": {},
   "outputs": [],
   "source": []
  }
 ],
 "metadata": {
  "kernelspec": {
   "display_name": "Python 3",
   "language": "python",
   "name": "python3"
  },
  "language_info": {
   "codemirror_mode": {
    "name": "ipython",
    "version": 3
   },
   "file_extension": ".py",
   "mimetype": "text/x-python",
   "name": "python",
   "nbconvert_exporter": "python",
   "pygments_lexer": "ipython3",
   "version": "3.8.8"
  }
 },
 "nbformat": 4,
 "nbformat_minor": 5
}
