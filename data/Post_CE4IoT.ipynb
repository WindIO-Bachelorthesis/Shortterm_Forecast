{
 "cells": [
  {
   "cell_type": "markdown",
   "id": "fc3a326d-d64e-463b-b17b-33a7d0abf4c0",
   "metadata": {},
   "source": [
    "<p style=\"text-align:center\"><img src=../images/header.png/></p>"
   ]
  },
  {
   "cell_type": "markdown",
   "id": "345bd790-4360-4010-9ec6-7f8ddce637c8",
   "metadata": {},
   "source": [
    "<p style=\"text-align:center\"><img src=\"https://camo.githubusercontent.com/4a300a0747dc7b5c69a83cc94ff2e2b5ad1f0f937ed3d142b171c0d4a6f8e164/68747470733a2f2f7777772e67652e636f6d2f72656e657761626c65656e657267792f73697465732f64656661756c742f66696c65732f323032302d30312f6f6e73686f72652d6865726f352e6a7067\"/></p>\n"
   ]
  },
  {
   "cell_type": "markdown",
   "id": "8a1f2d5a-4563-46f9-9806-9983e89a9294",
   "metadata": {},
   "source": [
    "<h1 align=\"center\">This script transfers the preprocessed data to the CE4IoT WindIO instance.</h1>"
   ]
  },
  {
   "cell_type": "code",
   "execution_count": 1,
   "id": "7e411c8d-3f47-4a70-b7a1-5e604816868b",
   "metadata": {},
   "outputs": [],
   "source": [
    "import ast\n",
    "import pandas as pd\n",
    "import requests\n",
    "import json"
   ]
  },
  {
   "cell_type": "markdown",
   "id": "190465d3-d38a-4047-9a33-f57417738ece",
   "metadata": {},
   "source": [
    "#### Please fill the needed infromation."
   ]
  },
  {
   "cell_type": "code",
   "execution_count": 4,
   "id": "b3fbcd37-7d52-4519-b2f2-cee45c91ae7d",
   "metadata": {},
   "outputs": [],
   "source": [
    "pre_path = \"./preprocessed/measurement_windio_msb-0004-a_2021-10-21.csv\"\n",
    "json_path = \"./measurement_windio_msb-0004-a_2021-10-21.json\"\n",
    "instance_url = \"\"\n",
    "user_name = ''\n",
    "password = ''\n",
    "asset_name = \"AS-000003-0003\"\n",
    "time_series_name = \"measurement_windio_msb-0004-a_2021-10-21\""
   ]
  },
  {
   "cell_type": "markdown",
   "id": "506acf6b-23e4-45de-973a-c97729004ebe",
   "metadata": {},
   "source": [
    "#### Execute this cell to transfer your data to the CE4IoT instance."
   ]
  },
  {
   "cell_type": "code",
   "execution_count": 5,
   "id": "23893888-5f26-470f-bdc4-27f78cec8c93",
   "metadata": {},
   "outputs": [],
   "source": [
    "df = pd.read_csv(pre_path, parse_dates=[\"date_time\"])\n",
    "df.rename(columns = {'date_time':'time'}, inplace=True)\n",
    "df[\"time\"] = pd.to_datetime(df[\"time\"], unit='s')\n",
    "df = df.to_json(json_path, orient = 'records')\n",
    "\n",
    "with open(json_path) as json_file:\n",
    "    json_data = json.load(json_file)\n",
    "    \n",
    "def get_csrf_token(session):\n",
    "    csrf = session.cookies.get('CSRFToken')\n",
    "    if csrf is None:\n",
    "        session.get(instance_url + \"/server/sessioninfo\")\n",
    "        csrf = session.cookies.get('CSRFToken')\n",
    "    return csrf\n",
    "\n",
    "with requests.Session() as session:\n",
    "    session.auth = (user_name, password)\n",
    "    headers = {\n",
    "        \"X-Csrf-Token\": get_csrf_token(session)\n",
    "    }\n",
    "    resp = session.post(instance_url + \"/iot_api/v1/assets/\" + asset_name + \"/time_series/\" + time_series_name + \"/data\", json=json_data[], headers=headers)\n",
    "    print(resp)\n",
    "    resp = session.get(instance_url + '/server/__quit__')"
   ]
  }
 ],
 "metadata": {
  "kernelspec": {
   "display_name": "Python 3",
   "language": "python",
   "name": "python3"
  },
  "language_info": {
   "codemirror_mode": {
    "name": "ipython",
    "version": 3
   },
   "file_extension": ".py",
   "mimetype": "text/x-python",
   "name": "python",
   "nbconvert_exporter": "python",
   "pygments_lexer": "ipython3",
   "version": "3.8.8"
  }
 },
 "nbformat": 4,
 "nbformat_minor": 5
}
