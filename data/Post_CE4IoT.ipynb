{
 "cells": [
  {
   "cell_type": "markdown",
   "id": "fc3a326d-d64e-463b-b17b-33a7d0abf4c0",
   "metadata": {},
   "source": [
    "<p style=\"text-align:center\"><img src=\"https://github.com/WindIO-Bachelorthesis/Shortterm_Forecast/blob/main/images/header.PNG?raw=true\"></p>"
   ]
  },
  {
   "cell_type": "markdown",
   "id": "345bd790-4360-4010-9ec6-7f8ddce637c8",
   "metadata": {},
   "source": [
    "<p style=\"text-align:center\"><img src=\"https://camo.githubusercontent.com/4a300a0747dc7b5c69a83cc94ff2e2b5ad1f0f937ed3d142b171c0d4a6f8e164/68747470733a2f2f7777772e67652e636f6d2f72656e657761626c65656e657267792f73697465732f64656661756c742f66696c65732f323032302d30312f6f6e73686f72652d6865726f352e6a7067\"/></p>\n"
   ]
  },
  {
   "cell_type": "markdown",
   "id": "8a1f2d5a-4563-46f9-9806-9983e89a9294",
   "metadata": {},
   "source": [
    "<h1 align=\"center\">This script transfers the preprocessed data to the CE4IoT WindIO instance.</h1>"
   ]
  },
  {
   "cell_type": "code",
   "execution_count": 1,
   "id": "7e411c8d-3f47-4a70-b7a1-5e604816868b",
   "metadata": {},
   "outputs": [],
   "source": [
    "import ast\n",
    "import pandas as pd\n",
    "import requests\n",
    "import json"
   ]
  },
  {
   "cell_type": "markdown",
   "id": "190465d3-d38a-4047-9a33-f57417738ece",
   "metadata": {},
   "source": [
    "#### Please fill the needed infromation."
   ]
  },
  {
   "cell_type": "code",
   "execution_count": 2,
   "id": "b3fbcd37-7d52-4519-b2f2-cee45c91ae7d",
   "metadata": {},
   "outputs": [],
   "source": [
    "pre_path = \"./transfer/measurement_windio_msb-0004-a_2021-10-21.csv\"\n",
    "json_path = \"./transfer/measurement_windio_msb-0004-a_2021-10-21.json\"\n",
    "instance_url = \"https://windio-contact.northeurope.cloudapp.azure.com:8443/\"\n",
    "user_name = 'caddok'\n",
    "password = 'l@ledi57'\n",
    "asset_name = \"AS-000003-0003\"\n",
    "time_series_name = \"measurement_windio_msb-0002-a_2021-10-21\""
   ]
  },
  {
   "cell_type": "markdown",
   "id": "506acf6b-23e4-45de-973a-c97729004ebe",
   "metadata": {},
   "source": [
    "#### Execute this cell to transfer your data to the CE4IoT instance."
   ]
  },
  {
   "cell_type": "code",
   "execution_count": 3,
   "id": "23893888-5f26-470f-bdc4-27f78cec8c93",
   "metadata": {},
   "outputs": [
    {
     "name": "stdout",
     "output_type": "stream",
     "text": [
      "<Response [200]>\n",
      "[{'acc_x ($m/s^{2}$)': 0.0422696897, 'acc_y ($m/s^{2}$)': -0.030005604, 'time': 1634809343724, 'vel_x ($m/s$)': -0.033023286, 'vel_y ($m/s$)': -0.0107052153, 'pos_x ($m$)': 0.0826465004, 'pos_y ($m$)': 0.0047304993}, {'acc_x ($m/s^{2}$)': 0.0278943996, 'acc_y ($m/s^{2}$)': -0.0240167153, 'time': 1634809343744, 'vel_x ($m/s$)': -0.0322770287, 'vel_y ($m/s$)': -0.0112193001, 'pos_x ($m$)': 0.0816677424, 'pos_y ($m$)': 0.0044842803}, {'acc_x ($m/s^{2}$)': 0.033877809, 'acc_y ($m/s^{2}$)': 0.0041261943, 'time': 1634809343763, 'vel_x ($m/s$)': -0.0316068692, 'vel_y ($m/s$)': -0.0114004956, 'pos_x ($m$)': 0.0806889195, 'pos_y ($m$)': 0.0042306207}, {'acc_x ($m/s^{2}$)': 0.0566273877, 'acc_y ($m/s^{2}$)': -0.0383838809, 'time': 1634809343783, 'vel_x ($m/s$)': -0.0306452595, 'vel_y ($m/s$)': -0.0117229437, 'pos_x ($m$)': 0.0797077947, 'pos_y ($m$)': 0.0039697687}, {'acc_x ($m/s^{2}$)': 0.0554278029, 'acc_y ($m/s^{2}$)': -0.0018582192, 'time': 1634809343802, 'vel_x ($m/s$)': -0.0294787639, 'vel_y ($m/s$)': -0.0120988448, 'pos_x ($m$)': 0.0787401675, 'pos_y ($m$)': 0.0037039508}, {'acc_x ($m/s^{2}$)': 0.0284827891, 'acc_y ($m/s^{2}$)': -0.0174241391, 'time': 1634809343822, 'vel_x ($m/s$)': -0.0285731629, 'vel_y ($m/s$)': -0.0122720421, 'pos_x ($m$)': 0.0777744615, 'pos_y ($m$)': 0.0034302927}, {'acc_x ($m/s^{2}$)': 0.042254137, 'acc_y ($m/s^{2}$)': -0.0102372793, 'time': 1634809343843, 'vel_x ($m/s$)': -0.0277161897, 'vel_y ($m/s$)': -0.0125553653, 'pos_x ($m$)': 0.0767529389, 'pos_y ($m$)': 0.0031253499}, {'acc_x ($m/s^{2}$)': 0.054230249, 'acc_y ($m/s^{2}$)': 0.0077272636, 'time': 1634809343861, 'vel_x ($m/s$)': -0.0267918338, 'vel_y ($m/s$)': -0.0125596356, 'pos_x ($m$)': 0.0758596993, 'pos_y ($m$)': 0.0028731659}, {'acc_x ($m/s^{2}$)': 0.0596210845, 'acc_y ($m/s^{2}$)': -0.0467574382, 'time': 1634809343880, 'vel_x ($m/s$)': -0.0255803021, 'vel_y ($m/s$)': -0.0129218424, 'pos_x ($m$)': 0.0749102382, 'pos_y ($m$)': 0.0025875595}, {'acc_x ($m/s^{2}$)': 0.0733955143, 'acc_y ($m/s^{2}$)': 0.016113914, 'time': 1634809343900, 'vel_x ($m/s$)': -0.0241730226, 'vel_y ($m/s$)': -0.0132020959, 'pos_x ($m$)': 0.0739715237, 'pos_y ($m$)': 0.0022944348}]\n"
     ]
    }
   ],
   "source": [
    "df = pd.read_csv(pre_path, parse_dates=[\"time\"])\n",
    "df[\"time\"] = pd.to_datetime(df[\"time\"], unit='s')\n",
    "df = df.to_json(json_path, orient = 'records')\n",
    "\n",
    "with open(json_path) as json_file:\n",
    "    json_data = json.load(json_file)\n",
    "    \n",
    "def get_csrf_token(session):\n",
    "    csrf = session.cookies.get('CSRFToken')\n",
    "    if csrf is None:\n",
    "        session.get(instance_url + \"/server/sessioninfo\")\n",
    "        csrf = session.cookies.get('CSRFToken')\n",
    "    return csrf\n",
    "\n",
    "with requests.Session() as session:\n",
    "    session.auth = (user_name, password)\n",
    "    headers = {\n",
    "        \"X-Csrf-Token\": get_csrf_token(session)\n",
    "    }\n",
    "    resp = session.post(instance_url + \"/iot_api/v1/assets/\" + asset_name + \"/time_series/\" + time_series_name + \"/data\", json=json_data[:10], headers=headers)\n",
    "    print(resp)\n",
    "    resp = session.get(instance_url + '/server/__quit__')"
   ]
  }
 ],
 "metadata": {
  "kernelspec": {
   "display_name": "Python 3",
   "language": "python",
   "name": "python3"
  },
  "language_info": {
   "codemirror_mode": {
    "name": "ipython",
    "version": 3
   },
   "file_extension": ".py",
   "mimetype": "text/x-python",
   "name": "python",
   "nbconvert_exporter": "python",
   "pygments_lexer": "ipython3",
   "version": "3.8.8"
  }
 },
 "nbformat": 4,
 "nbformat_minor": 5
}
